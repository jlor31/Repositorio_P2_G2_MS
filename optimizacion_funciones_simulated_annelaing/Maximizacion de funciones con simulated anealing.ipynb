{
 "cells": [
  {
   "cell_type": "markdown",
   "id": "9e082d0b",
   "metadata": {},
   "source": [
    "# Proyecto 2 - Grupo 2 - M&S"
   ]
  },
  {
   "cell_type": "markdown",
   "id": "e58c4769",
   "metadata": {},
   "source": [
    "# Maximización de funciones con simulated anealing\n",
    "\n",
    "A continuación presentamos una implementación básica del método de simulatedd anealing para optimizar funciones tales que \n",
    "$f : \\mathbb{R} \\rightarrow \\mathbb{R}$. \n",
    "\n",
    "Además, comparamos los resultados del aloritmo implementado aquí del método de simulated anealing con los que se obtienen mediante uno de los métodos de optimización de funciones más populares: descenso gradiente (se utilizó la implementación de scipy del método BFGS)\n",
    "\n",
    "Ambos métodos de optimización de funciones se aplicaron primero a una función parabólica básica con un solo máximo global, y después a una función de Rastrigin con varios máximos locales para evaluar cuál de los 2 métodos era más sensible a este tipo de problemas."
   ]
  },
  {
   "cell_type": "code",
   "execution_count": 1,
   "id": "4a4df0a5",
   "metadata": {},
   "outputs": [],
   "source": [
    "import numpy as np\n",
    "import random\n",
    "import matplotlib.pyplot as plt\n",
    "from scipy import optimize"
   ]
  },
  {
   "cell_type": "markdown",
   "id": "fe7b9650",
   "metadata": {},
   "source": [
    "### Implementación del método de simulated anealing.\n",
    "\n",
    "La implementación que se presenta a continuación es relativamente sencilla y trata de apegarse al máximo a la versión original (el método puede mejorarse, y además deja much libertad en cuanto a la manera en que se ejecutan los diferenes pasos del algoritmo). Además, la versión implementada es una variante que permite encontrar el máximo de una función (o el mínimo si la invertimmos).\n",
    "\n",
    "Esencialmente consta de **3** parámetros:\n",
    "\n",
    "    1. s_0 : La estimación inicial del punto en el dominio donde se encuentra el máximo\n",
    "    2. f   : La función a optimizar\n",
    "    3. k_max: El número máximo de iteraciones permitidas.\n",
    "    \n",
    "Luego, en cada iteración, el algorítmo pasa por 3 etápas:\n",
    "\n",
    "    1. Reducción de la \"temperatura\" de acuerdo a una función de decaimiento dada.\n",
    "    2. Proponer un nuevo candidato (vecino al máximo actual) a ser el máximo. (Este se escoje de forma aleatoria siguiendo              una distribución dada)\n",
    "    3. Evaluar el potencial del nuevo candidato:\n",
    "            Si es mejor, este se guarda\n",
    "            Si no es mejor entonces se escoje en función de una probabilidad dada."
   ]
  },
  {
   "cell_type": "code",
   "execution_count": 2,
   "id": "2511dfc6",
   "metadata": {},
   "outputs": [],
   "source": [
    "def simulated_anealing(S_0, f, k_max  ):\n",
    "    \n",
    "    difs = []  #Regitro de la diferencia entre el potencial de las muestras\n",
    "    s = S_0\n",
    "    \n",
    "    for k in range(k_max):\n",
    "        \n",
    "        T = 1/(k+1) #Decaimiento de la temperatura\n",
    "        \n",
    "        s_new = s + (5-10*random.random())*np.random.normal(s, np.sqrt(T))  #seleccion basada en una distribución normal\n",
    "                                                                            # centrada en s y con desviación = raiz cuadrada de T\n",
    "        \n",
    "        if (f(s_new) > f(s)): #si el nuevo candidato es mejor (mayor al ser evaluado en f) entonces lo guardamos como el mejor\n",
    "            s = s_new\n",
    "            \n",
    "            \n",
    "        else:  #si no se cumple la condición anterior, entonces aun puede ser seleccionado si cumple la probabilidad\n",
    "        \n",
    "            prob_select = np.exp(-(np.abs(f(s_new) - f(s))) /T) \n",
    "            draw = random.random()\n",
    "            \n",
    "            if (draw < prob_select):\n",
    "                s = s_new\n",
    "        \n",
    "        difs.append(np.abs(f(s_new)-f(s)))  #guardar el error de la nueva aproximacion comparada con la anterior\n",
    "        \n",
    "        if( k % 10 == 0):\n",
    "            print('T = {}        s = {}        f(s) = {}'.format(T, s, f(s)))\n",
    "            \n",
    "    print('¡Listo!')\n",
    "    print('X_max = ', s, ' Val_max = ', f(s))        \n",
    "            \n",
    "    return s, f(s), difs     #retornar los valores de interés\n",
    "    \n",
    "    "
   ]
  },
  {
   "cell_type": "markdown",
   "id": "1cdc44f9",
   "metadata": {},
   "source": [
    "### Aplicación del método de simulated anealing y comparación con el descenso gradiente sobre la parábola: $ f(x) = -0.2(x-2)^2 + 3 $"
   ]
  },
  {
   "cell_type": "code",
   "execution_count": 3,
   "id": "4de458ce",
   "metadata": {},
   "outputs": [],
   "source": [
    "def parabola_invertida(x):  #definicion de la parabola\n",
    "    \n",
    "    return -0.2*(x-2)**2 +3\n",
    "    "
   ]
  },
  {
   "cell_type": "markdown",
   "id": "3f747c83",
   "metadata": {},
   "source": [
    "#### Gráfica de la parábola"
   ]
  },
  {
   "cell_type": "code",
   "execution_count": 4,
   "id": "342e4306",
   "metadata": {},
   "outputs": [
    {
     "data": {
      "text/plain": [
       "[<matplotlib.lines.Line2D at 0x1c693898a60>]"
      ]
     },
     "execution_count": 4,
     "metadata": {},
     "output_type": "execute_result"
    },
    {
     "data": {
      "image/png": "[encoded data removed]",
      "text/plain": [
       "<Figure size 432x288 with 1 Axes>"
      ]
     },
     "metadata": {
      "needs_background": "light"
     },
     "output_type": "display_data"
    }
   ],
   "source": [
    "x = np.linspace(-5,5,1000)\n",
    "y = [parabola_invertida(k) for k in x]\n",
    "\n",
    "plt.plot(x,y)"
   ]
  },
  {
   "cell_type": "markdown",
   "id": "cf48d426",
   "metadata": {},
   "source": [
    "#### Prueba con simulated anealing:"
   ]
  },
  {
   "cell_type": "code",
   "execution_count": 18,
   "id": "86b2f43f",
   "metadata": {},
   "outputs": [
    {
     "name": "stdout",
     "output_type": "stream",
     "text": [
      "T = 1.0        s = 10        f(s) = -9.8\n",
      "T = 0.09090909090909091        s = 9.55594163769054        f(s) = -8.418450806437118\n",
      "T = 0.047619047619047616        s = 0.43599076402578263        f(s) = 2.510775021957469\n",
      "T = 0.03225806451612903        s = 2.064285046412958        f(s) = 2.9991734865615367\n",
      "T = 0.024390243902439025        s = 1.8003612900657324        f(s) = 2.9920288770991563\n",
      "T = 0.0196078431372549        s = 1.8003612900657324        f(s) = 2.9920288770991563\n",
      "T = 0.01639344262295082        s = 1.8003612900657324        f(s) = 2.9920288770991563\n",
      "T = 0.014084507042253521        s = 1.570734582732385        f(s) = 2.963146240307612\n",
      "T = 0.012345679012345678        s = 2.07968336549774        f(s) = 2.998730112252591\n",
      "T = 0.01098901098901099        s = 2.081487896831171        f(s) = 2.9986719445340064\n",
      "¡Listo!\n",
      "X_max =  2.081487896831171  Val_max =  2.9986719445340064\n"
     ]
    }
   ],
   "source": [
    "x_max, max_val, difs = simulated_anealing(10, parabola_invertida, 100)"
   ]
  },
  {
   "cell_type": "markdown",
   "id": "ee3d69b8",
   "metadata": {},
   "source": [
    "#### NOTA:\n",
    "\n",
    "El método encontró el máximo global en $x \\approx 2$ donde $f(2) = 3$ lo cuál es consistente con la gráfica de la parábola"
   ]
  },
  {
   "cell_type": "code",
   "execution_count": 19,
   "id": "955e2845",
   "metadata": {},
   "outputs": [
    {
     "data": {
      "text/plain": [
       "Text(0, 0.5, 'f(s) - f(s_new)')"
      ]
     },
     "execution_count": 19,
     "metadata": {},
     "output_type": "execute_result"
    },
    {
     "data": {
      "image/png": "[encoded data removed]",
      "text/plain": [
       "<Figure size 432x288 with 1 Axes>"
      ]
     },
     "metadata": {
      "needs_background": "light"
     },
     "output_type": "display_data"
    }
   ],
   "source": [
    "plt.plot(range(100), difs[:100])\n",
    "plt.xlabel('iteracion')\n",
    "plt.ylabel('f(s) - f(s_new)')\n"
   ]
  },
  {
   "cell_type": "markdown",
   "id": "38b8677c",
   "metadata": {},
   "source": [
    "#### NOTA:\n",
    "\n",
    "La gráfica anterior muestra el carácter \"estocástico\" de este método y se puede ver cómo a partir de la 10a iteración la diferencia entre los nuevos candidatos y el actual se va haciendo cada vez más pequeña. Esto muestra la convergencia progresiva del método hacia un óptimo.\n"
   ]
  },
  {
   "cell_type": "markdown",
   "id": "db57a625",
   "metadata": {},
   "source": [
    "#### Prueba con la implemetación de la librería scipy del método del descenso gradiente para optimizar funciones.\n",
    "\n",
    "Ahora que hemos visto el funcionamiento del método del simulated anealing para una parábola básica mostramos para efectos de comparación el resultado obtenido para la misma parábola pero con el método \"minimize\" de la librería scipy.\n",
    "Empleamos el método 'BFGS' que esencialmente permite aproximar de manera computacionalmente eficiente la 2da derivada de la función, y como punto incial de búsqued usamos el mismo que en el caso de simulated anealing, es decir: $x = 10$."
   ]
  },
  {
   "cell_type": "code",
   "execution_count": 20,
   "id": "3c847c12",
   "metadata": {},
   "outputs": [
    {
     "data": {
      "text/plain": [
       "      fun: -2.9999999999999463\n",
       " hess_inv: array([[2.50000018]])\n",
       "      jac: array([-2.08616257e-07])\n",
       "  message: 'Optimization terminated successfully.'\n",
       "     nfev: 8\n",
       "      nit: 3\n",
       "     njev: 4\n",
       "   status: 0\n",
       "  success: True\n",
       "        x: array([1.99999948])"
      ]
     },
     "execution_count": 20,
     "metadata": {},
     "output_type": "execute_result"
    }
   ],
   "source": [
    "# para máximizar la función basta poner un (-1) antes de la función para que el método ejecute \n",
    "# la operación inversa a la minimización\n",
    "\n",
    "resultado_BFGS_parabola = optimize.minimize(lambda x: -parabola_invertida(x), 10,  \n",
    "                    method='BFGS')\n",
    "\n",
    "resultado_BFGS_parabola"
   ]
  },
  {
   "cell_type": "markdown",
   "id": "625fd726",
   "metadata": {},
   "source": [
    "#### NOTA: \n",
    "\n",
    "Como podemos ver en la celda anterior, el método del gradiente parece ser el más eficiente en este caso, ya que en tan solo 3 iteraciones encontró el máximo local y absoluto de la función, con un nivel mayor de precisión. Mientras que el método del simulated anealing tomó 100 iteraciones en encontrar una solución que a pesar de ser cercana al óptimo real, no es tan exacta como la encontrada por el método del gradiente."
   ]
  },
  {
   "cell_type": "markdown",
   "id": "e4957ce1",
   "metadata": {},
   "source": [
    "### Aplicación del método de simulated anealing y comparación con el descenso gradiente sobre la función de Rastrigin.\n",
    "\n",
    "La función de Rastrigin con frecuencia se utiliza para evaluar el desempeño de un algoritmo de optimización debido a la alta cantida de minimos y máximos locales. Esta función es dada por la expresión:\n",
    "\n",
    "$$  f(\\bf{x}) = nA + \\sum_{i = 1}^{n} [x_i^2 -A\\cos(2 \\pi x_i)]$$\n",
    "donde $\\bf{x}$ es un vector $n-$dimensional, y $A = 10$.\n",
    "\n",
    "En este caso solo trabajeremos con la versión $f: \\mathbb{R} \\rightarrow \\mathbb{R} de la función. Por lo que para nuestro fines:\n",
    "\n",
    "$$ f(x) = n*A + \\sum_{i = 1}^{n}[x^2 -A\\cos(2 \\pi x)]  $$\n",
    "\n",
    "Y $n$ será un entero positivo dado.\n",
    "\n",
    "\n",
    "Para más detalles véase: https://en.wikipedia.org/wiki/Rastrigin_function#:~:text=In%20mathematical%20optimization%2C%20the%20Rastrigin,has%20been%20generalized%20by%20Rudolph. "
   ]
  },
  {
   "cell_type": "code",
   "execution_count": 21,
   "id": "d8d8f574",
   "metadata": {},
   "outputs": [],
   "source": [
    "def mini_Rastrigin(x, n = 10):  #definir la funcion de Rastrigin 1 dimensional\n",
    "    \n",
    "    A = 10\n",
    "    \n",
    "    lista_terminos = []  #listamos los terminos de la sumatoria\n",
    "    \n",
    "    for i in range(n):\n",
    "        \n",
    "        termino = A*n - x**2 + A*np.cos(2*np.pi*x)  #Rastrigin\n",
    "        \n",
    "        lista_terminos.append(termino)\n",
    "        \n",
    "    return sum(lista_terminos)  #retornamos la suma\n",
    "    "
   ]
  },
  {
   "cell_type": "markdown",
   "id": "dd71563c",
   "metadata": {},
   "source": [
    "#### Gráfica de la función de Rastrigin.\n",
    "\n",
    "Como podemos ver en la gráfica a continuación, la función de Rastrigin presenta una enorme cantidad de máximos locales, pero hay un máximo absoluto a pesar de todo, y se encuentra (para el caso $n = 10$) en $x = 0$.\n",
    "\n",
    "¿Cómo evitar que un método de optimización se quede atrapado en alguno de los mínimos locales?"
   ]
  },
  {
   "cell_type": "code",
   "execution_count": 11,
   "id": "9e01ddb1",
   "metadata": {},
   "outputs": [
    {
     "data": {
      "text/plain": [
       "[<matplotlib.lines.Line2D at 0x1c693a08e20>]"
      ]
     },
     "execution_count": 11,
     "metadata": {},
     "output_type": "execute_result"
    },
    {
     "data": {
      "image/png": "[encoded data removed]",
      "text/plain": [
       "<Figure size 432x288 with 1 Axes>"
      ]
     },
     "metadata": {
      "needs_background": "light"
     },
     "output_type": "display_data"
    }
   ],
   "source": [
    "x = np.linspace(-5,5, 1000)\n",
    "\n",
    "y = [mini_Rastrigin(k) for k in x]\n",
    "\n",
    "plt.plot(x, y, '-')"
   ]
  },
  {
   "cell_type": "markdown",
   "id": "1d0f374b",
   "metadata": {},
   "source": [
    "#### Maximización de la funciónd de Rastrigin con simulated anealing.\n",
    "\n",
    "Aplicamos primero el método de simulated anealing dándole como punto inicial de busqueda el punto $x = -2$. El cuál como podemos ver es particularmente complicado en este caso ya que no solo es un máximo local, pero además hay otro maximo local entre él y el maximo absoluto de la fucion."
   ]
  },
  {
   "cell_type": "code",
   "execution_count": 22,
   "id": "0c48278c",
   "metadata": {},
   "outputs": [
    {
     "name": "stdout",
     "output_type": "stream",
     "text": [
      "T = 1.0        s = -2        f(s) = 1060.0\n",
      "T = 0.09090909090909091        s = -2        f(s) = 1060.0\n",
      "T = 0.047619047619047616        s = -2        f(s) = 1060.0\n",
      "T = 0.03225806451612903        s = -2        f(s) = 1060.0\n",
      "T = 0.024390243902439025        s = -2        f(s) = 1060.0\n",
      "T = 0.0196078431372549        s = -0.03136922176262058        f(s) = 1098.054046174801\n",
      "T = 0.01639344262295082        s = -0.03136922176262058        f(s) = 1098.054046174801\n",
      "T = 0.014084507042253521        s = -0.010250255568199477        f(s) = 1099.7916255965154\n",
      "T = 0.012345679012345678        s = 0.001916469147612199        f(s) = 1099.9927134358736\n",
      "T = 0.01098901098901099        s = 0.001916469147612199        f(s) = 1099.9927134358736\n",
      "¡Listo!\n",
      "X_max =  0.001916469147612199  Val_max =  1099.9927134358736\n"
     ]
    }
   ],
   "source": [
    "x, fx, difs = simulated_anealing(-2, mini_Rastrigin, 100)"
   ]
  },
  {
   "cell_type": "code",
   "execution_count": 23,
   "id": "3afe20e2",
   "metadata": {},
   "outputs": [
    {
     "data": {
      "text/plain": [
       "[<matplotlib.lines.Line2D at 0x1c694aae7f0>]"
      ]
     },
     "execution_count": 23,
     "metadata": {},
     "output_type": "execute_result"
    },
    {
     "data": {
      "image/png": "[encoded data removed]",
      "text/plain": [
       "<Figure size 432x288 with 1 Axes>"
      ]
     },
     "metadata": {
      "needs_background": "light"
     },
     "output_type": "display_data"
    }
   ],
   "source": [
    "plt.plot(range(100), difs[:100])"
   ]
  },
  {
   "cell_type": "markdown",
   "id": "33fbb251",
   "metadata": {},
   "source": [
    "#### NOTA:\n",
    "\n",
    "Claramente, el método de simulated anealing no tuvo niguna dificultad en encontrar el máximo absoluto $x = 0$. Además ¡lo logró con una precisión de 2 cifras significativas en a penas 100 iteraciones!\n",
    "\n",
    "Una vez, más la gráfica que se muestra en la celda anterior, conprueba el caracter estocástico del método. Y muestra cómo, a medida que converge hacia una solución, las oscilaciones entre soluciones propuestas se van reduciendo. Mostrando como el método se está \"centrando\" sobre una solución\"."
   ]
  },
  {
   "cell_type": "markdown",
   "id": "a52af86e",
   "metadata": {},
   "source": [
    "#### Maximización de la función de Rastrigin con descenso gradiente.\n",
    "\n",
    "Ahora, para efectos de comparación, intentamos encontrar el máximo absoluto con la implementación de la librería scipy del método del descenso gradiente..."
   ]
  },
  {
   "cell_type": "code",
   "execution_count": 24,
   "id": "d9b48088",
   "metadata": {},
   "outputs": [],
   "source": [
    "resultado_BFGS_rastrigin = optimize.minimize(lambda x: -mini_Rastrigin(x),-2,  \n",
    "                    method='BFGS')"
   ]
  },
  {
   "cell_type": "code",
   "execution_count": 25,
   "id": "24dcbc76",
   "metadata": {},
   "outputs": [
    {
     "data": {
      "text/plain": [
       "      fun: -1090.050409429067\n",
       " hess_inv: array([[0.00025371]])\n",
       "      jac: array([0.])\n",
       "  message: 'Optimization terminated successfully.'\n",
       "     nfev: 22\n",
       "      nit: 5\n",
       "     njev: 11\n",
       "   status: 0\n",
       "  success: True\n",
       "        x: array([-0.99495864])"
      ]
     },
     "execution_count": 25,
     "metadata": {},
     "output_type": "execute_result"
    }
   ],
   "source": [
    "resultado_BFGS_rastrigin"
   ]
  },
  {
   "cell_type": "markdown",
   "id": "c0faa813",
   "metadata": {},
   "source": [
    "#### ¡VAYA!\n",
    "\n",
    "El método del desenso gradiente no funcionó. O para ser más exactos, encontró un máximo local (en -1) pero se quedó atrapado! ¡No logró encontrar el maximo absoluto de la función de Rastrigin!\n",
    "\n",
    "Por lo tanto, el método de simulated anealing parece ser mucho más efectivo cuando hay varios máximos locales y un máximo absoluto."
   ]
  }
 ],
 "metadata": {
  "kernelspec": {
   "display_name": "Python 3 (ipykernel)",
   "language": "python",
   "name": "python3"
  },
  "language_info": {
   "codemirror_mode": {
    "name": "ipython",
    "version": 3
   },
   "file_extension": ".py",
   "mimetype": "text/x-python",
   "name": "python",
   "nbconvert_exporter": "python",
   "pygments_lexer": "ipython3",
   "version": "3.9.12"
  }
 },
 "nbformat": 4,
 "nbformat_minor": 5
}
